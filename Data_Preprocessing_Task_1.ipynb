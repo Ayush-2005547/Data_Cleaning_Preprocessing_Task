{
  "nbformat": 4,
  "nbformat_minor": 0,
  "metadata": {
    "colab": {
      "provenance": []
    },
    "kernelspec": {
      "name": "python3",
      "display_name": "Python 3"
    },
    "language_info": {
      "name": "python"
    }
  },
  "cells": [
    {
      "cell_type": "code",
      "execution_count": 1,
      "metadata": {
        "colab": {
          "base_uri": "https://localhost:8080/"
        },
        "id": "6oqbVf_tHqG6",
        "outputId": "35ccc4b9-4ec0-4ac2-e2f2-2bc034c9fb3b"
      },
      "outputs": [
        {
          "metadata": {
            "tags": null
          },
          "name": "stdout",
          "output_type": "stream",
          "text": [
            "Path to dataset files: /kaggle/input/titanic-dataset\n"
          ]
        }
      ],
      "source": [
        "import kagglehub\n",
        "\n",
        "# Download latest version\n",
        "path = kagglehub.dataset_download(\"yasserh/titanic-dataset\")\n",
        "\n",
        "print(\"Path to dataset files:\", path)"
      ]
    },
    {
      "cell_type": "code",
      "source": [
        "#Importing necessary files\n",
        "import numpy as np\n",
        "import pandas as pd\n",
        "import matplotlib.pyplot as plt\n",
        "import seaborn as sns"
      ],
      "metadata": {
        "id": "jXnSUrIMJxiZ"
      },
      "execution_count": null,
      "outputs": []
    },
    {
      "cell_type": "code",
      "source": [
        "#Loading the dataset\n",
        "df=pd.read_csv(\"/content/Titanic-Dataset.csv\")"
      ],
      "metadata": {
        "id": "CdJg-3U2H_V3"
      },
      "execution_count": 6,
      "outputs": []
    },
    {
      "cell_type": "code",
      "source": [
        "# 1. Explore basic info\n",
        "print(\"Basic Info:\\n\")\n",
        "print(df.info())"
      ],
      "metadata": {
        "colab": {
          "base_uri": "https://localhost:8080/"
        },
        "id": "dxiz3pQvIXzl",
        "outputId": "92019de2-ace7-4305-8587-229c403fb4ac"
      },
      "execution_count": 9,
      "outputs": [
        {
          "output_type": "stream",
          "name": "stdout",
          "text": [
            "Basic Info:\n",
            "\n",
            "<class 'pandas.core.frame.DataFrame'>\n",
            "RangeIndex: 891 entries, 0 to 890\n",
            "Data columns (total 12 columns):\n",
            " #   Column       Non-Null Count  Dtype  \n",
            "---  ------       --------------  -----  \n",
            " 0   PassengerId  891 non-null    int64  \n",
            " 1   Survived     891 non-null    int64  \n",
            " 2   Pclass       891 non-null    int64  \n",
            " 3   Name         891 non-null    object \n",
            " 4   Sex          891 non-null    object \n",
            " 5   Age          714 non-null    float64\n",
            " 6   SibSp        891 non-null    int64  \n",
            " 7   Parch        891 non-null    int64  \n",
            " 8   Ticket       891 non-null    object \n",
            " 9   Fare         891 non-null    float64\n",
            " 10  Cabin        204 non-null    object \n",
            " 11  Embarked     889 non-null    object \n",
            "dtypes: float64(2), int64(5), object(5)\n",
            "memory usage: 83.7+ KB\n",
            "None\n"
          ]
        }
      ]
    },
    {
      "cell_type": "code",
      "source": [
        "print(\"\\nMissing Values:\\n\", df.isnull().sum())\n"
      ],
      "metadata": {
        "colab": {
          "base_uri": "https://localhost:8080/"
        },
        "id": "8IhGGQMOKJZw",
        "outputId": "22722e16-f38e-40ad-a414-3e63a052e178"
      },
      "execution_count": 8,
      "outputs": [
        {
          "output_type": "stream",
          "name": "stdout",
          "text": [
            "\n",
            "Missing Values:\n",
            " PassengerId      0\n",
            "Survived         0\n",
            "Pclass           0\n",
            "Name             0\n",
            "Sex              0\n",
            "Age            177\n",
            "SibSp            0\n",
            "Parch            0\n",
            "Ticket           0\n",
            "Fare             0\n",
            "Cabin          687\n",
            "Embarked         2\n",
            "dtype: int64\n"
          ]
        }
      ]
    },
    {
      "cell_type": "code",
      "source": [
        "print(\"\\nDescription:\\n\", df.describe(include='all'))"
      ],
      "metadata": {
        "colab": {
          "base_uri": "https://localhost:8080/"
        },
        "id": "78mXW9fPKU5Q",
        "outputId": "2eb6fbea-1004-447c-b60e-a784abba7b3a"
      },
      "execution_count": 10,
      "outputs": [
        {
          "output_type": "stream",
          "name": "stdout",
          "text": [
            "\n",
            "Description:\n",
            "         PassengerId    Survived      Pclass                 Name   Sex  \\\n",
            "count    891.000000  891.000000  891.000000                  891   891   \n",
            "unique          NaN         NaN         NaN                  891     2   \n",
            "top             NaN         NaN         NaN  Dooley, Mr. Patrick  male   \n",
            "freq            NaN         NaN         NaN                    1   577   \n",
            "mean     446.000000    0.383838    2.308642                  NaN   NaN   \n",
            "std      257.353842    0.486592    0.836071                  NaN   NaN   \n",
            "min        1.000000    0.000000    1.000000                  NaN   NaN   \n",
            "25%      223.500000    0.000000    2.000000                  NaN   NaN   \n",
            "50%      446.000000    0.000000    3.000000                  NaN   NaN   \n",
            "75%      668.500000    1.000000    3.000000                  NaN   NaN   \n",
            "max      891.000000    1.000000    3.000000                  NaN   NaN   \n",
            "\n",
            "               Age       SibSp       Parch  Ticket        Fare Cabin Embarked  \n",
            "count   714.000000  891.000000  891.000000     891  891.000000   204      889  \n",
            "unique         NaN         NaN         NaN     681         NaN   147        3  \n",
            "top            NaN         NaN         NaN  347082         NaN    G6        S  \n",
            "freq           NaN         NaN         NaN       7         NaN     4      644  \n",
            "mean     29.699118    0.523008    0.381594     NaN   32.204208   NaN      NaN  \n",
            "std      14.526497    1.102743    0.806057     NaN   49.693429   NaN      NaN  \n",
            "min       0.420000    0.000000    0.000000     NaN    0.000000   NaN      NaN  \n",
            "25%      20.125000    0.000000    0.000000     NaN    7.910400   NaN      NaN  \n",
            "50%      28.000000    0.000000    0.000000     NaN   14.454200   NaN      NaN  \n",
            "75%      38.000000    1.000000    0.000000     NaN   31.000000   NaN      NaN  \n",
            "max      80.000000    8.000000    6.000000     NaN  512.329200   NaN      NaN  \n"
          ]
        }
      ]
    },
    {
      "cell_type": "code",
      "source": [
        "# 2. Handle missing values\n",
        "df['Age'] = df['Age'].fillna(df['Age'].median())\n",
        "\n",
        "if 'Embarked' in df.columns:\n",
        "    df['Embarked'] = df['Embarked'].fillna(df['Embarked'].mode()[0])\n",
        "\n",
        "if 'Cabin' in df.columns:\n",
        "    df.drop(columns=['Cabin'], inplace=True)  # Drop only if exists\n"
      ],
      "metadata": {
        "id": "qEoGMDheKa8L"
      },
      "execution_count": 23,
      "outputs": []
    },
    {
      "cell_type": "code",
      "source": [
        "# 3. Encode categorical features\n",
        "# Import LabelEncoder\n",
        "from sklearn.preprocessing import LabelEncoder\n",
        "\n",
        "# Label Encoding for 'Sex'\n",
        "le = LabelEncoder()\n",
        "df['Sex'] = le.fit_transform(df['Sex'])  # male=1, female=0"
      ],
      "metadata": {
        "id": "Hl7UQ0guK_Bw"
      },
      "execution_count": 25,
      "outputs": []
    },
    {
      "cell_type": "code",
      "source": [
        "# One-hot Encoding for 'Embarked'\n",
        "df = pd.get_dummies(df, columns=['Embarked'], drop_first=True)\n"
      ],
      "metadata": {
        "id": "PsuECIgXLVH-"
      },
      "execution_count": 26,
      "outputs": []
    },
    {
      "cell_type": "code",
      "source": [
        "# 4. Normalize/Standardize numerical features\n",
        "# Import StandardScaler\n",
        "from sklearn.preprocessing import StandardScaler\n",
        "\n",
        "scaler = StandardScaler()\n",
        "df[['Age', 'Fare']] = scaler.fit_transform(df[['Age', 'Fare']])"
      ],
      "metadata": {
        "id": "NDYb2BynMjvB"
      },
      "execution_count": 28,
      "outputs": []
    },
    {
      "cell_type": "code",
      "source": [
        "# 5. Visualize outliers using boxplots\n",
        "plt.figure(figsize=(12, 5))\n",
        "plt.subplot(1, 2, 1)\n",
        "sns.boxplot(y=df['Age'])\n",
        "plt.title(\"Boxplot - Age\")\n",
        "\n",
        "plt.subplot(1, 2, 2)\n",
        "sns.boxplot(y=df['Fare'])\n",
        "plt.title(\"Boxplot - Fare\")\n",
        "plt.tight_layout()\n",
        "plt.show()"
      ],
      "metadata": {
        "colab": {
          "base_uri": "https://localhost:8080/",
          "height": 369
        },
        "id": "fpPqoTERMl96",
        "outputId": "f525b2b5-8354-4715-edc2-87fbae6a66d2"
      },
      "execution_count": 29,
      "outputs": [
        {
          "output_type": "display_data",
          "data": {
            "text/plain": [
              "<Figure size 1200x500 with 2 Axes>"
            ],
            "image/png": "[encoded data removed]"
          },
          "metadata": {}
        }
      ]
    },
    {
      "cell_type": "code",
      "source": [
        "# Remove outliers using IQR\n",
        "def remove_outliers_iqr(data, column):\n",
        "    Q1 = data[column].quantile(0.25)\n",
        "    Q3 = data[column].quantile(0.75)\n",
        "    IQR = Q3 - Q1\n",
        "    return data[~((data[column] < (Q1 - 1.5 * IQR)) | (data[column] > (Q3 + 1.5 * IQR)))]\n",
        "\n",
        "df = remove_outliers_iqr(df, 'Age')\n",
        "df = remove_outliers_iqr(df, 'Fare')"
      ],
      "metadata": {
        "id": "jtC3LmVVMu8K"
      },
      "execution_count": 30,
      "outputs": []
    },
    {
      "cell_type": "code",
      "source": [
        "# Final dataset preview\n",
        "print(\"\\nCleaned Dataset Preview:\\n\")\n",
        "print(df.head())"
      ],
      "metadata": {
        "colab": {
          "base_uri": "https://localhost:8080/"
        },
        "id": "evPUMqUOM0aW",
        "outputId": "1fee7f0c-12bd-461e-c618-55aae12d4a68"
      },
      "execution_count": 31,
      "outputs": [
        {
          "output_type": "stream",
          "name": "stdout",
          "text": [
            "\n",
            "Cleaned Dataset Preview:\n",
            "\n",
            "   PassengerId  Survived  Pclass  \\\n",
            "0            1         0       3   \n",
            "2            3         1       3   \n",
            "3            4         1       1   \n",
            "4            5         0       3   \n",
            "5            6         0       3   \n",
            "\n",
            "                                           Name  Sex       Age  SibSp  Parch  \\\n",
            "0                       Braund, Mr. Owen Harris    1 -0.565736      1      0   \n",
            "2                        Heikkinen, Miss. Laina    0 -0.258337      0      0   \n",
            "3  Futrelle, Mrs. Jacques Heath (Lily May Peel)    0  0.433312      1      0   \n",
            "4                      Allen, Mr. William Henry    1  0.433312      0      0   \n",
            "5                              Moran, Mr. James    1 -0.104637      0      0   \n",
            "\n",
            "             Ticket      Fare  Embarked_Q  Embarked_S  \n",
            "0         A/5 21171 -0.502445       False        True  \n",
            "2  STON/O2. 3101282 -0.488854       False        True  \n",
            "3            113803  0.420730       False        True  \n",
            "4            373450 -0.486337       False        True  \n",
            "5            330877 -0.478116        True       False  \n"
          ]
        }
      ]
    },
    {
      "cell_type": "code",
      "source": [
        "# Save cleaned dataset\n",
        "df.to_csv(\"Cleaned_Titanic_Dataset.csv\", index=False)"
      ],
      "metadata": {
        "id": "TD8XgrbBONd6"
      },
      "execution_count": 32,
      "outputs": []
    }
  ]
}